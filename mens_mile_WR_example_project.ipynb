{
  "cells": [
    {
      "cell_type": "markdown",
      "metadata": {
        "id": "view-in-github",
        "colab_type": "text"
      },
      "source": [
        "<a href=\"https://colab.research.google.com/github/jduncan81/data_1_checks/blob/main/mens_mile_WR_example_project.ipynb\" target=\"_parent\"><img src=\"https://colab.research.google.com/assets/colab-badge.svg\" alt=\"Open In Colab\"/></a>"
      ]
    },
    {
      "cell_type": "markdown",
      "metadata": {
        "id": "OnwbaobgJQCa"
      },
      "source": [
        "# Men's World Record Mile Times"
      ]
    },
    {
      "cell_type": "markdown",
      "metadata": {
        "id": "WJNd17mxJQCk"
      },
      "source": [
        "![a runner](https://www.nnrunningteam.com/files/images/485-458-1083-slide.jpg?1570881944)"
      ]
    },
    {
      "cell_type": "markdown",
      "metadata": {
        "id": "9qiSlfj0lW87"
      },
      "source": [
        "## Goals for this example project:\n",
        "\n",
        "1. Use documentation for some small challenges.\n",
        "\n",
        "2. Practice data cleaning.\n",
        "\n",
        "3. Practice aggregation. \n",
        "\n",
        "4. Practice simple visualization.\n",
        "\n",
        "[source - wikipedia](https://en.wikipedia.org/wiki/Mile_run_world_record_progression#:~:text=World%20Athletics%20is%20the%20official,the%20IAAF%20for%20record%20purposes)"
      ]
    },
    {
      "cell_type": "code",
      "execution_count": null,
      "metadata": {
        "id": "OYkwKM4AmM0O"
      },
      "outputs": [],
      "source": [
        "#part of python\n",
        "import datetime as dt\n",
        "import json\n",
        "import time\n",
        "\n",
        "# NOT included with python\n",
        "import matplotlib.pyplot as plt\n",
        "import pandas as pd\n"
      ]
    },
    {
      "cell_type": "code",
      "execution_count": null,
      "metadata": {
        "id": "nHWVw6FPrxuD",
        "scrolled": true
      },
      "outputs": [],
      "source": [
        "data = pd.read_csv(\"https://raw.githubusercontent.com/josephplpriest/mens_WR_mile_run/master/mens_WR_mile_times.csv\")\n",
        "\n"
      ]
    },
    {
      "cell_type": "code",
      "source": [
        "data.head()"
      ],
      "metadata": {
        "colab": {
          "base_uri": "https://localhost:8080/",
          "height": 206
        },
        "id": "74UgLlK9uXfk",
        "outputId": "1ef617c2-506b-4a68-fcdb-5077c280c99b"
      },
      "execution_count": null,
      "outputs": [
        {
          "output_type": "execute_result",
          "data": {
            "text/plain": [
              "       Time Auto           Athlete    Nationality               Date  \\\n",
              "0  *4:14.4*  NaN   John Paul Jones  United States     31 May 1913[5]   \n",
              "1  *4:12.6*  NaN      Norman Taber  United States    16 July 1915[5]   \n",
              "2  *4:10.4*  NaN       Paavo Nurmi        Finland  23 August 1923[5]   \n",
              "3  *4:09.2*  NaN  Jules Ladoumègue         France  4 October 1931[5]   \n",
              "4  *4:07.6*  NaN     Jack Lovelock    New Zealand    15 July 1933[5]   \n",
              "\n",
              "             Venue  \n",
              "0   Allston, Mass.  \n",
              "1   Allston, Mass.  \n",
              "2        Stockholm  \n",
              "3            Paris  \n",
              "4  Princeton, N.J.  "
            ],
            "text/html": [
              "\n",
              "  <div id=\"df-68c59866-f3b1-40fe-b6b3-2a3054982aa1\">\n",
              "    <div class=\"colab-df-container\">\n",
              "      <div>\n",
              "<style scoped>\n",
              "    .dataframe tbody tr th:only-of-type {\n",
              "        vertical-align: middle;\n",
              "    }\n",
              "\n",
              "    .dataframe tbody tr th {\n",
              "        vertical-align: top;\n",
              "    }\n",
              "\n",
              "    .dataframe thead th {\n",
              "        text-align: right;\n",
              "    }\n",
              "</style>\n",
              "<table border=\"1\" class=\"dataframe\">\n",
              "  <thead>\n",
              "    <tr style=\"text-align: right;\">\n",
              "      <th></th>\n",
              "      <th>Time</th>\n",
              "      <th>Auto</th>\n",
              "      <th>Athlete</th>\n",
              "      <th>Nationality</th>\n",
              "      <th>Date</th>\n",
              "      <th>Venue</th>\n",
              "    </tr>\n",
              "  </thead>\n",
              "  <tbody>\n",
              "    <tr>\n",
              "      <th>0</th>\n",
              "      <td>*4:14.4*</td>\n",
              "      <td>NaN</td>\n",
              "      <td>John Paul Jones</td>\n",
              "      <td>United States</td>\n",
              "      <td>31 May 1913[5]</td>\n",
              "      <td>Allston, Mass.</td>\n",
              "    </tr>\n",
              "    <tr>\n",
              "      <th>1</th>\n",
              "      <td>*4:12.6*</td>\n",
              "      <td>NaN</td>\n",
              "      <td>Norman Taber</td>\n",
              "      <td>United States</td>\n",
              "      <td>16 July 1915[5]</td>\n",
              "      <td>Allston, Mass.</td>\n",
              "    </tr>\n",
              "    <tr>\n",
              "      <th>2</th>\n",
              "      <td>*4:10.4*</td>\n",
              "      <td>NaN</td>\n",
              "      <td>Paavo Nurmi</td>\n",
              "      <td>Finland</td>\n",
              "      <td>23 August 1923[5]</td>\n",
              "      <td>Stockholm</td>\n",
              "    </tr>\n",
              "    <tr>\n",
              "      <th>3</th>\n",
              "      <td>*4:09.2*</td>\n",
              "      <td>NaN</td>\n",
              "      <td>Jules Ladoumègue</td>\n",
              "      <td>France</td>\n",
              "      <td>4 October 1931[5]</td>\n",
              "      <td>Paris</td>\n",
              "    </tr>\n",
              "    <tr>\n",
              "      <th>4</th>\n",
              "      <td>*4:07.6*</td>\n",
              "      <td>NaN</td>\n",
              "      <td>Jack Lovelock</td>\n",
              "      <td>New Zealand</td>\n",
              "      <td>15 July 1933[5]</td>\n",
              "      <td>Princeton, N.J.</td>\n",
              "    </tr>\n",
              "  </tbody>\n",
              "</table>\n",
              "</div>\n",
              "      <button class=\"colab-df-convert\" onclick=\"convertToInteractive('df-68c59866-f3b1-40fe-b6b3-2a3054982aa1')\"\n",
              "              title=\"Convert this dataframe to an interactive table.\"\n",
              "              style=\"display:none;\">\n",
              "        \n",
              "  <svg xmlns=\"http://www.w3.org/2000/svg\" height=\"24px\"viewBox=\"0 0 24 24\"\n",
              "       width=\"24px\">\n",
              "    <path d=\"M0 0h24v24H0V0z\" fill=\"none\"/>\n",
              "    <path d=\"M18.56 5.44l.94 2.06.94-2.06 2.06-.94-2.06-.94-.94-2.06-.94 2.06-2.06.94zm-11 1L8.5 8.5l.94-2.06 2.06-.94-2.06-.94L8.5 2.5l-.94 2.06-2.06.94zm10 10l.94 2.06.94-2.06 2.06-.94-2.06-.94-.94-2.06-.94 2.06-2.06.94z\"/><path d=\"M17.41 7.96l-1.37-1.37c-.4-.4-.92-.59-1.43-.59-.52 0-1.04.2-1.43.59L10.3 9.45l-7.72 7.72c-.78.78-.78 2.05 0 2.83L4 21.41c.39.39.9.59 1.41.59.51 0 1.02-.2 1.41-.59l7.78-7.78 2.81-2.81c.8-.78.8-2.07 0-2.86zM5.41 20L4 18.59l7.72-7.72 1.47 1.35L5.41 20z\"/>\n",
              "  </svg>\n",
              "      </button>\n",
              "      \n",
              "  <style>\n",
              "    .colab-df-container {\n",
              "      display:flex;\n",
              "      flex-wrap:wrap;\n",
              "      gap: 12px;\n",
              "    }\n",
              "\n",
              "    .colab-df-convert {\n",
              "      background-color: #E8F0FE;\n",
              "      border: none;\n",
              "      border-radius: 50%;\n",
              "      cursor: pointer;\n",
              "      display: none;\n",
              "      fill: #1967D2;\n",
              "      height: 32px;\n",
              "      padding: 0 0 0 0;\n",
              "      width: 32px;\n",
              "    }\n",
              "\n",
              "    .colab-df-convert:hover {\n",
              "      background-color: #E2EBFA;\n",
              "      box-shadow: 0px 1px 2px rgba(60, 64, 67, 0.3), 0px 1px 3px 1px rgba(60, 64, 67, 0.15);\n",
              "      fill: #174EA6;\n",
              "    }\n",
              "\n",
              "    [theme=dark] .colab-df-convert {\n",
              "      background-color: #3B4455;\n",
              "      fill: #D2E3FC;\n",
              "    }\n",
              "\n",
              "    [theme=dark] .colab-df-convert:hover {\n",
              "      background-color: #434B5C;\n",
              "      box-shadow: 0px 1px 3px 1px rgba(0, 0, 0, 0.15);\n",
              "      filter: drop-shadow(0px 1px 2px rgba(0, 0, 0, 0.3));\n",
              "      fill: #FFFFFF;\n",
              "    }\n",
              "  </style>\n",
              "\n",
              "      <script>\n",
              "        const buttonEl =\n",
              "          document.querySelector('#df-68c59866-f3b1-40fe-b6b3-2a3054982aa1 button.colab-df-convert');\n",
              "        buttonEl.style.display =\n",
              "          google.colab.kernel.accessAllowed ? 'block' : 'none';\n",
              "\n",
              "        async function convertToInteractive(key) {\n",
              "          const element = document.querySelector('#df-68c59866-f3b1-40fe-b6b3-2a3054982aa1');\n",
              "          const dataTable =\n",
              "            await google.colab.kernel.invokeFunction('convertToInteractive',\n",
              "                                                     [key], {});\n",
              "          if (!dataTable) return;\n",
              "\n",
              "          const docLinkHtml = 'Like what you see? Visit the ' +\n",
              "            '<a target=\"_blank\" href=https://colab.research.google.com/notebooks/data_table.ipynb>data table notebook</a>'\n",
              "            + ' to learn more about interactive tables.';\n",
              "          element.innerHTML = '';\n",
              "          dataTable['output_type'] = 'display_data';\n",
              "          await google.colab.output.renderOutput(dataTable, element);\n",
              "          const docLink = document.createElement('div');\n",
              "          docLink.innerHTML = docLinkHtml;\n",
              "          element.appendChild(docLink);\n",
              "        }\n",
              "      </script>\n",
              "    </div>\n",
              "  </div>\n",
              "  "
            ]
          },
          "metadata": {},
          "execution_count": 6
        }
      ]
    },
    {
      "cell_type": "code",
      "source": [
        "data[\"Nationality\"]"
      ],
      "metadata": {
        "colab": {
          "base_uri": "https://localhost:8080/"
        },
        "id": "aChVyCdhuXVc",
        "outputId": "ab63ce7f-ceef-4e99-fdf1-84dba2d08bf5"
      },
      "execution_count": null,
      "outputs": [
        {
          "output_type": "execute_result",
          "data": {
            "text/plain": [
              "0      United States\n",
              "1      United States\n",
              "2            Finland\n",
              "3             France\n",
              "4        New Zealand\n",
              "5      United States\n",
              "6     United Kingdom\n",
              "7             Sweden\n",
              "8             Sweden\n",
              "9             Sweden\n",
              "10            Sweden\n",
              "11            Sweden\n",
              "12            Sweden\n",
              "13    United Kingdom\n",
              "14         Australia\n",
              "15    United Kingdom\n",
              "16         Australia\n",
              "17       New Zealand\n",
              "18       New Zealand\n",
              "19            France\n",
              "20     United States\n",
              "21     United States\n",
              "22          Tanzania\n",
              "23       New Zealand\n",
              "24    United Kingdom\n",
              "25    United Kingdom\n",
              "26    United Kingdom\n",
              "27    United Kingdom\n",
              "28    United Kingdom\n",
              "29    United Kingdom\n",
              "30           Algeria\n",
              "31           Morocco\n",
              "Name: Nationality, dtype: object"
            ]
          },
          "metadata": {},
          "execution_count": 7
        }
      ]
    },
    {
      "cell_type": "code",
      "source": [
        ""
      ],
      "metadata": {
        "id": "Bs9XNr4vuXKM"
      },
      "execution_count": null,
      "outputs": []
    },
    {
      "cell_type": "markdown",
      "metadata": {
        "id": "WFiT-zx2JQDU"
      },
      "source": [
        "## Tasks:"
      ]
    },
    {
      "cell_type": "markdown",
      "metadata": {
        "id": "PgMOXXiYuVa5"
      },
      "source": [
        "### [Easy: Data Cleaning](#easy)\n",
        "\n",
        "[1.1](#1.1)\n",
        "* Clean the asterisks from the time column?\n",
        "\n",
        "*hint - look for pandas string methods to replace a character or characters*\n",
        "\n",
        "[1.2](#1.2)\n",
        "* Remove meaningless columns? \n",
        "\n",
        "*hint - do we have a column with lots of missing values, how to drop a column in pandas*\n",
        "\n",
        "[1.3](#1.3)\n",
        "* Clean the date column of \"[5]\"\n",
        "\n",
        "*pandas string methods to replace characters*\n",
        "\n",
        "\n"
      ]
    },
    {
      "cell_type": "markdown",
      "metadata": {
        "id": "GNwczzNQJQDe"
      },
      "source": [
        "### [Medium: Calculation and Aggregation](#medium)\n",
        "\n",
        "[2.1](#2.1) \n",
        "* How many *unique* WR holders have there been? Who holds the most records?\n",
        "\n",
        "*hint - pandas unique items in a column, value counts*\n",
        "\n",
        "\n",
        "[2.2](#2.2) \n",
        "* Convert the time column into total seconds.\n",
        "\n",
        "*hint - split a string, how to convert minutes to seconds and add*\n",
        "\n",
        "\n"
      ]
    },
    {
      "cell_type": "markdown",
      "metadata": {
        "id": "-YZg1FMNJQDh"
      },
      "source": [
        "### [Hard:](#hard)\n",
        "\n",
        "[3.1](#3.1) \n",
        "* Convert the date column to the datetime type.\n",
        "\n",
        "*hint - pandas datetime method*\n",
        "\n",
        "\n",
        "[3.2](#3.2) \n",
        "* What country has the most DIFFERENT record holders?\n",
        "\n",
        "*hint - pandas group by, unique*\n",
        "\n"
      ]
    },
    {
      "cell_type": "markdown",
      "metadata": {
        "id": "W06D3AByJQDk"
      },
      "source": [
        "## [Extra credit:](#ec)\n",
        "\n",
        "[4.1](#4.1)\n",
        "* Visualize a line plot of Date (on the x axis) and Time (on the y axis) to show the historical change in WR times.\n",
        "\n",
        "*hint - pandas line plot*"
      ]
    },
    {
      "cell_type": "markdown",
      "metadata": {
        "id": "8oq7Q45KvN3U"
      },
      "source": [
        "### Easy: <a name=\"easy\"></a>"
      ]
    },
    {
      "cell_type": "markdown",
      "metadata": {
        "id": "5SsHflyaJQDm"
      },
      "source": [
        "#### 1.1 Cleaning the time column <a name=\"1.1\"><a/>"
      ]
    },
    {
      "cell_type": "code",
      "execution_count": null,
      "metadata": {
        "id": "yKiR-B8cJQDv"
      },
      "outputs": [],
      "source": [
        "# Your code here"
      ]
    },
    {
      "cell_type": "markdown",
      "metadata": {
        "id": "zN0YKRKNJQDz"
      },
      "source": [
        "#### 1.2 Drop the \"Auto\" column <a name=\"1.2\"><a/>"
      ]
    },
    {
      "cell_type": "code",
      "execution_count": null,
      "metadata": {
        "id": "RxAkIhSjJQD0"
      },
      "outputs": [],
      "source": [
        "# Your code here"
      ]
    },
    {
      "cell_type": "markdown",
      "metadata": {
        "id": "TFNk4MwzJQD1"
      },
      "source": [
        "#### 1.3 Clean the date column <a name=\"1.3\"><a/>"
      ]
    },
    {
      "cell_type": "code",
      "execution_count": null,
      "metadata": {
        "id": "0BmiantWJQD1"
      },
      "outputs": [],
      "source": [
        "# Your code here\n",
        "\n"
      ]
    },
    {
      "cell_type": "markdown",
      "metadata": {
        "id": "_aLsXJNiJQEB"
      },
      "source": [
        "### Medium: <a name=\"medium\"><a/>"
      ]
    },
    {
      "cell_type": "markdown",
      "metadata": {
        "id": "lf8Chc0TJQEB"
      },
      "source": [
        "#### 2.1 Looking at record holders (unique and multiple-record holders) <a name=\"2.1\"><a/>"
      ]
    },
    {
      "cell_type": "code",
      "execution_count": null,
      "metadata": {
        "id": "DGbJafYdJQEB"
      },
      "outputs": [],
      "source": [
        "# Your code here"
      ]
    },
    {
      "cell_type": "code",
      "execution_count": null,
      "metadata": {
        "id": "n2qHXGLGJQEH"
      },
      "outputs": [],
      "source": [
        "# Your code here"
      ]
    },
    {
      "cell_type": "markdown",
      "metadata": {
        "id": "6_hpgrLNJQEH"
      },
      "source": [
        "#### 2.2 Convert the \"Time\" column to seconds <a name=\"2.2\"><a/>"
      ]
    },
    {
      "cell_type": "code",
      "execution_count": null,
      "metadata": {
        "id": "HVScCt6UJQEI"
      },
      "outputs": [],
      "source": [
        "# Your code here"
      ]
    },
    {
      "cell_type": "markdown",
      "metadata": {
        "id": "GOZDS9JLJQEQ"
      },
      "source": [
        "### Hard: <a name=\"hard\"><a/>"
      ]
    },
    {
      "cell_type": "markdown",
      "metadata": {
        "id": "pa1Rpj_BJQES"
      },
      "source": [
        "#### 3.1 Convert the \"Date\" column to datetime type<a name=\"3.1\"><a/>"
      ]
    },
    {
      "cell_type": "code",
      "execution_count": null,
      "metadata": {
        "id": "6_wdjreMJQET"
      },
      "outputs": [],
      "source": [
        "# Your code here"
      ]
    },
    {
      "cell_type": "markdown",
      "metadata": {
        "id": "pBvY8uAbJQEU"
      },
      "source": [
        "#### 3.2 Rank countries by number (distinct) of record holders <a name=\"3.2\"><a/>"
      ]
    },
    {
      "cell_type": "code",
      "execution_count": null,
      "metadata": {
        "id": "KAGZkRyZJQEU"
      },
      "outputs": [],
      "source": [
        "# Your code here"
      ]
    },
    {
      "cell_type": "markdown",
      "metadata": {
        "id": "-UgwATW4JQEV"
      },
      "source": [
        "### Extra Credit: <a name = \"ec\"><a/>"
      ]
    },
    {
      "cell_type": "markdown",
      "metadata": {
        "id": "oq3p_QxJJQEW"
      },
      "source": [
        "#### 4.1 Plot the dates vs times to see how the record has changed through history. <a name=\"4.1\"><a/>"
      ]
    },
    {
      "cell_type": "code",
      "execution_count": null,
      "metadata": {
        "id": "fod5DNBKJQEW"
      },
      "outputs": [],
      "source": [
        "# Your code here"
      ]
    }
  ],
  "metadata": {
    "colab": {
      "collapsed_sections": [],
      "name": "mens_mile_WR_example_project.ipynb",
      "provenance": [],
      "include_colab_link": true
    },
    "kernelspec": {
      "display_name": "Python 3 (ipykernel)",
      "language": "python",
      "name": "python3"
    },
    "language_info": {
      "codemirror_mode": {
        "name": "ipython",
        "version": 3
      },
      "file_extension": ".py",
      "mimetype": "text/x-python",
      "name": "python",
      "nbconvert_exporter": "python",
      "pygments_lexer": "ipython3",
      "version": "3.9.7"
    }
  },
  "nbformat": 4,
  "nbformat_minor": 0
}