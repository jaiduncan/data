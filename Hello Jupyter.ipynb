{
 "cells": [
  {
   "cell_type": "code",
   "execution_count": 1,
   "id": "54e4679b",
   "metadata": {},
   "outputs": [
    {
     "name": "stdout",
     "output_type": "stream",
     "text": [
      "Hello Jupyter!\n"
     ]
    }
   ],
   "source": [
    "print('Hello Jupyter!')"
   ]
  },
  {
   "cell_type": "markdown",
   "id": "e7a7b332",
   "metadata": {},
   "source": [
    "User single _underscores_ or single *asterisks* to get italics"
   ]
  },
  {
   "cell_type": "markdown",
   "id": "73ddca6f",
   "metadata": {},
   "source": [
    "# Header 1\n",
    "## Header 2\n",
    "### Header 3"
   ]
  },
  {
   "cell_type": "code",
   "execution_count": 2,
   "id": "b8fc1642",
   "metadata": {},
   "outputs": [
    {
     "name": "stdout",
     "output_type": "stream",
     "text": [
      "Kenwood Station\n",
      "Harmony\n"
     ]
    }
   ],
   "source": [
    "schools = [\"Goshen\", \"Harmony\", \"Camden Station\", \"Kenwood Station\"]\n",
    "print(schools[3])\n",
    "print(schools[1])"
   ]
  },
  {
   "cell_type": "code",
   "execution_count": 3,
   "id": "3cb142fe",
   "metadata": {},
   "outputs": [
    {
     "ename": "SyntaxError",
     "evalue": "leading zeros in decimal integer literals are not permitted; use an 0o prefix for octal integers (2634027082.py, line 1)",
     "output_type": "error",
     "traceback": [
      "\u001b[1;36m  Input \u001b[1;32mIn [3]\u001b[1;36m\u001b[0m\n\u001b[1;33m    dict1 = {'recycle': 0800, 'trash': 0930}\u001b[0m\n\u001b[1;37m                           ^\u001b[0m\n\u001b[1;31mSyntaxError\u001b[0m\u001b[1;31m:\u001b[0m leading zeros in decimal integer literals are not permitted; use an 0o prefix for octal integers\n"
     ]
    }
   ],
   "source": [
    "dict1 = {'recycle': 0800, 'trash': 0930}\n",
    "print(dict1.value(2))"
   ]
  },
  {
   "cell_type": "code",
   "execution_count": 6,
   "id": "e49bb5b9",
   "metadata": {},
   "outputs": [
    {
     "name": "stdout",
     "output_type": "stream",
     "text": [
      "dict_values([800, 930])\n"
     ]
    }
   ],
   "source": [
    "dict1 = {'recycle': 800, 'trash': 930}\n",
    "print(dict1.values())"
   ]
  },
  {
   "cell_type": "code",
   "execution_count": 11,
   "id": "2af489b5",
   "metadata": {},
   "outputs": [
    {
     "name": "stdout",
     "output_type": "stream",
     "text": [
      "930\n"
     ]
    }
   ],
   "source": [
    "dict1 = {'recycle': 800, 'trash': 930}\n",
    "print(dict1.get('trash'))"
   ]
  },
  {
   "cell_type": "code",
   "execution_count": 12,
   "id": "654c2f93",
   "metadata": {},
   "outputs": [
    {
     "name": "stdout",
     "output_type": "stream",
     "text": [
      "800\n"
     ]
    }
   ],
   "source": [
    "dict1 = {'recycle': 800, 'trash': 930}\n",
    "print(dict1.get('recycle'))"
   ]
  },
  {
   "cell_type": "code",
   "execution_count": 17,
   "id": "89075ffb",
   "metadata": {},
   "outputs": [
    {
     "name": "stdout",
     "output_type": "stream",
     "text": [
      "Pink\n"
     ]
    }
   ],
   "source": [
    "tuple1 = (\"Red\", \"Black\", \"Pink\", \"Green\")\n",
    "print(tuple1[2])"
   ]
  },
  {
   "cell_type": "code",
   "execution_count": null,
   "id": "b11232a6",
   "metadata": {},
   "outputs": [],
   "source": []
  }
 ],
 "metadata": {
  "kernelspec": {
   "display_name": "Python 3 (ipykernel)",
   "language": "python",
   "name": "python3"
  },
  "language_info": {
   "codemirror_mode": {
    "name": "ipython",
    "version": 3
   },
   "file_extension": ".py",
   "mimetype": "text/x-python",
   "name": "python",
   "nbconvert_exporter": "python",
   "pygments_lexer": "ipython3",
   "version": "3.9.12"
  }
 },
 "nbformat": 4,
 "nbformat_minor": 5
}
